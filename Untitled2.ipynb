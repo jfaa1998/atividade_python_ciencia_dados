{
  "nbformat": 4,
  "nbformat_minor": 0,
  "metadata": {
    "colab": {
      "provenance": [],
      "authorship_tag": "ABX9TyPfTgE0faTAnjjoPlqqs9VJ",
      "include_colab_link": true
    },
    "kernelspec": {
      "name": "python3",
      "display_name": "Python 3"
    },
    "language_info": {
      "name": "python"
    }
  },
  "cells": [
    {
      "cell_type": "markdown",
      "metadata": {
        "id": "view-in-github",
        "colab_type": "text"
      },
      "source": [
        "<a href=\"https://colab.research.google.com/github/jfaa1998/atividade_python_ciencia_dados/blob/main/Untitled2.ipynb\" target=\"_parent\"><img src=\"https://colab.research.google.com/assets/colab-badge.svg\" alt=\"Open In Colab\"/></a>"
      ]
    },
    {
      "cell_type": "code",
      "execution_count": 2,
      "metadata": {
        "colab": {
          "base_uri": "https://localhost:8080/"
        },
        "id": "dg9cGgWaNgnL",
        "outputId": "2dc6550b-ed56-4ff6-d54d-7aa03dba5cbc"
      },
      "outputs": [
        {
          "output_type": "stream",
          "name": "stdout",
          "text": [
            "0\n",
            "1\n",
            "2\n",
            "3\n",
            "4\n",
            "['apples', 'oranges', 'bananas']\n",
            "Número de linhas: 30000\n",
            "Número de colunas: 7\n",
            "\n",
            "Tipos de dados:\n",
            "ID                            int64\n",
            "LIMIT_BAL                     int64\n",
            "SEX                           int64\n",
            "EDUCATION                     int64\n",
            "MARRIAGE                      int64\n",
            "AGE                           int64\n",
            "default.payment.next.month    int64\n",
            "dtype: object\n",
            "\n",
            "Colunas categóricas: ['SEX', 'EDUCATION', 'MARRIAGE', 'default.payment.next.month']\n",
            "\n",
            "Colunas numéricas: ['ID', 'LIMIT_BAL', 'AGE']\n",
            "\n",
            "Resumo estatístico:\n",
            "                 ID      LIMIT_BAL           AGE\n",
            "count  30000.000000   30000.000000  30000.000000\n",
            "mean   15000.500000  507261.801300     49.579667\n",
            "std     8660.398374  285233.638743     16.682192\n",
            "min        1.000000   10005.000000     21.000000\n",
            "25%     7500.750000  261633.750000     35.000000\n",
            "50%    15000.500000  508673.500000     50.000000\n",
            "75%    22500.250000  753987.000000     64.000000\n",
            "max    30000.000000  999964.000000     78.000000\n",
            "\n",
            "Frequência de valores em SEX:\n",
            "SEX\n",
            "1    15044\n",
            "2    14956\n",
            "Name: count, dtype: int64\n",
            "\n",
            "Frequência de valores em EDUCATION:\n",
            "EDUCATION\n",
            "2    7582\n",
            "1    7495\n",
            "4    7493\n",
            "3    7430\n",
            "Name: count, dtype: int64\n",
            "\n",
            "Frequência de valores em MARRIAGE:\n",
            "MARRIAGE\n",
            "2    10082\n",
            "1    10034\n",
            "3     9884\n",
            "Name: count, dtype: int64\n",
            "\n",
            "Frequência de valores em default.payment.next.month:\n",
            "default.payment.next.month\n",
            "0    15052\n",
            "1    14948\n",
            "Name: count, dtype: int64\n",
            "\n",
            "Dados faltando:\n",
            "ID                            0\n",
            "LIMIT_BAL                     0\n",
            "SEX                           0\n",
            "EDUCATION                     0\n",
            "MARRIAGE                      0\n",
            "AGE                           0\n",
            "default.payment.next.month    0\n",
            "dtype: int64\n"
          ]
        }
      ],
      "source": [
        "# Etapa 1 - Testes básicos\n",
        "for counter in range(5):\n",
        "    print(counter)\n",
        "\n",
        "example_dict = {'apples': 5, 'oranges': 8, 'bananas': 13}\n",
        "dict_to_list = list(example_dict)\n",
        "print(dict_to_list)\n",
        "# Etapa 2 - Análise de dados com Pandas\n",
        "import pandas as pd\n",
        "import numpy as np\n",
        "\n",
        "np.random.seed(42)\n",
        "n_samples = 30000\n",
        "df = pd.DataFrame({\n",
        "    'ID': np.arange(1, n_samples + 1),\n",
        "    'LIMIT_BAL': np.random.randint(10000, 1000000, size=n_samples),\n",
        "    'SEX': np.random.choice([1, 2], size=n_samples),\n",
        "    'EDUCATION': np.random.choice([1, 2, 3, 4], size=n_samples),\n",
        "    'MARRIAGE': np.random.choice([1, 2, 3], size=n_samples),\n",
        "    'AGE': np.random.randint(21, 79, size=n_samples),\n",
        "    'default.payment.next.month': np.random.choice([0, 1], size=n_samples)\n",
        "})\n",
        "print(\"Número de linhas:\", df.shape[0])\n",
        "print(\"Número de colunas:\", df.shape[1])\n",
        "\n",
        "print(\"\\nTipos de dados:\")\n",
        "print(df.dtypes)\n",
        "\n",
        "cat_cols = []\n",
        "num_cols = []\n",
        "for col in df.columns:\n",
        "    if df[col].dtype == 'object' or len(df[col].unique()) < 10:\n",
        "        cat_cols.append(col)\n",
        "    else:\n",
        "        num_cols.append(col)\n",
        "\n",
        "print(\"\\nColunas categóricas:\", cat_cols)\n",
        "print(\"\\nColunas numéricas:\", num_cols)\n",
        "\n",
        "print(\"\\nResumo estatístico:\")\n",
        "print(df[num_cols].describe())\n",
        "\n",
        "for col in cat_cols:\n",
        "    print(f\"\\nFrequência de valores em {col}:\")\n",
        "    print(df[col].value_counts())\n",
        "\n",
        "print(\"\\nDados faltando:\")\n",
        "print(df.isnull().sum())\n"
      ]
    },
    {
      "cell_type": "markdown",
      "source": [
        "# Jupyter Notebook_Joao Felipe Araujo Alves\n",
        "\n",
        "## O que estou achando da atividade até aqui:\n",
        "Achei interessante e prática, pois estou compreendendo melhor como o Python se aplica na Ciência de Dados.\n",
        "A parte de explorar os dados e compreender suas variáveis foi uma das mais enriquecedoras até agora.\n"
      ],
      "metadata": {
        "id": "zCMoxYSdOHEN"
      }
    },
    {
      "cell_type": "markdown",
      "source": [],
      "metadata": {
        "id": "6eRnMZqjOAoL"
      }
    },
    {
      "cell_type": "markdown",
      "source": [],
      "metadata": {
        "id": "e2xZsJ3gOBU3"
      }
    },
    {
      "cell_type": "markdown",
      "source": [],
      "metadata": {
        "id": "ptX6QKICODnr"
      }
    },
    {
      "cell_type": "markdown",
      "source": [],
      "metadata": {
        "id": "RrgEsXQSODyH"
      }
    },
    {
      "cell_type": "markdown",
      "source": [],
      "metadata": {
        "id": "TpKCASB0OD0_"
      }
    },
    {
      "cell_type": "markdown",
      "source": [],
      "metadata": {
        "id": "giIb7x4DOD4E"
      }
    }
  ]
}